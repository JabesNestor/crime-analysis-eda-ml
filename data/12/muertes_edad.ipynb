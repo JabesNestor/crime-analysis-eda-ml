{
 "cells": [
  {
   "cell_type": "markdown",
   "id": "da3b3ff7-34f2-4953-a5af-ce02039ca16c",
   "metadata": {},
   "source": [
    "# Importamos librerias "
   ]
  },
  {
   "cell_type": "code",
   "execution_count": 1,
   "id": "32cb448a-484e-401c-b6c4-c65e3e30119c",
   "metadata": {},
   "outputs": [],
   "source": [
    "import pandas as pd\n",
    "import numpy as np"
   ]
  },
  {
   "cell_type": "code",
   "execution_count": 2,
   "id": "9bfe9211-67b9-48f9-9d81-d19875422693",
   "metadata": {},
   "outputs": [],
   "source": [
    "try:\n",
    "    df = pd.read_csv(\"muertes_edad.csv\",sep=';' ,encoding='latin-1')\n",
    "    df\n",
    "\n",
    "except UnicodeDecodeError:\n",
    "  print(\"ERROR\")"
   ]
  },
  {
   "cell_type": "code",
   "execution_count": 3,
   "id": "694169d5-e2c1-4a61-b3de-cca6c2278af0",
   "metadata": {},
   "outputs": [
    {
     "data": {
      "text/html": [
       "<div>\n",
       "<style scoped>\n",
       "    .dataframe tbody tr th:only-of-type {\n",
       "        vertical-align: middle;\n",
       "    }\n",
       "\n",
       "    .dataframe tbody tr th {\n",
       "        vertical-align: top;\n",
       "    }\n",
       "\n",
       "    .dataframe thead th {\n",
       "        text-align: right;\n",
       "    }\n",
       "</style>\n",
       "<table border=\"1\" class=\"dataframe\">\n",
       "  <thead>\n",
       "    <tr style=\"text-align: right;\">\n",
       "      <th></th>\n",
       "      <th>EDADES</th>\n",
       "      <th>FALLECIDOS</th>\n",
       "      <th>AÑO</th>\n",
       "    </tr>\n",
       "  </thead>\n",
       "  <tbody>\n",
       "    <tr>\n",
       "      <th>0</th>\n",
       "      <td>0-5</td>\n",
       "      <td>18</td>\n",
       "      <td>2016</td>\n",
       "    </tr>\n",
       "    <tr>\n",
       "      <th>1</th>\n",
       "      <td>6-10</td>\n",
       "      <td>19</td>\n",
       "      <td>2016</td>\n",
       "    </tr>\n",
       "    <tr>\n",
       "      <th>2</th>\n",
       "      <td>11-15</td>\n",
       "      <td>34</td>\n",
       "      <td>2016</td>\n",
       "    </tr>\n",
       "    <tr>\n",
       "      <th>3</th>\n",
       "      <td>16-20</td>\n",
       "      <td>219</td>\n",
       "      <td>2016</td>\n",
       "    </tr>\n",
       "    <tr>\n",
       "      <th>4</th>\n",
       "      <td>21-25</td>\n",
       "      <td>260</td>\n",
       "      <td>2016</td>\n",
       "    </tr>\n",
       "  </tbody>\n",
       "</table>\n",
       "</div>"
      ],
      "text/plain": [
       "  EDADES  FALLECIDOS   AÑO\n",
       "0    0-5          18  2016\n",
       "1   6-10          19  2016\n",
       "2  11-15          34  2016\n",
       "3  16-20         219  2016\n",
       "4  21-25         260  2016"
      ]
     },
     "execution_count": 3,
     "metadata": {},
     "output_type": "execute_result"
    }
   ],
   "source": [
    "df.head()"
   ]
  },
  {
   "cell_type": "code",
   "execution_count": 4,
   "id": "ae976a6a-8521-49cd-86d0-8bc7f6321da4",
   "metadata": {},
   "outputs": [
    {
     "name": "stdout",
     "output_type": "stream",
     "text": [
      "<class 'pandas.core.frame.DataFrame'>\n",
      "RangeIndex: 104 entries, 0 to 103\n",
      "Data columns (total 3 columns):\n",
      " #   Column      Non-Null Count  Dtype \n",
      "---  ------      --------------  ----- \n",
      " 0   EDADES      104 non-null    object\n",
      " 1   FALLECIDOS  104 non-null    int64 \n",
      " 2   AÑO         104 non-null    int64 \n",
      "dtypes: int64(2), object(1)\n",
      "memory usage: 2.6+ KB\n"
     ]
    }
   ],
   "source": [
    "df.info()"
   ]
  },
  {
   "cell_type": "code",
   "execution_count": 5,
   "id": "bbd0c461-6fa8-4cbc-a041-e9cdba5611cf",
   "metadata": {},
   "outputs": [
    {
     "data": {
      "text/plain": [
       "0"
      ]
     },
     "execution_count": 5,
     "metadata": {},
     "output_type": "execute_result"
    }
   ],
   "source": [
    "#datos nulos?\n",
    "df.isnull().sum().sum()"
   ]
  },
  {
   "cell_type": "code",
   "execution_count": 6,
   "id": "6bfe1448-99d9-4bbd-bbe5-93c4b9c7feec",
   "metadata": {},
   "outputs": [],
   "source": [
    "def categorizar_edades(edad):\n",
    "    # Elimina espacios en blanco al principio y al final del valor\n",
    "    edad = edad.strip()\n",
    "\n",
    "    if edad in ['0-5', '6-10']:\n",
    "        return 'Niños'\n",
    "    elif edad in ['11-15', '16-20']:\n",
    "        return 'Jovenes'\n",
    "    elif edad in ['21-25', '26-30', '31-35', '36-40', '41-45', '46-50', '51-55', '56-60']:\n",
    "        return 'Adultos'\n",
    "    elif edad in ['60-100']:\n",
    "        return 'Viejos'\n",
    "\n",
    "\n",
    "\n",
    "df['Categoria'] = df['EDADES'].apply(categorizar_edades)"
   ]
  },
  {
   "cell_type": "markdown",
   "id": "547cd2cb-3fe1-49da-b9ed-b71054781cd2",
   "metadata": {},
   "source": [
    "# Descargamos el dataset \n",
    "### para luego utilizarlo mas adelante "
   ]
  },
  {
   "cell_type": "code",
   "execution_count": 7,
   "id": "ac824d0a-9c78-4f96-834c-15f6354e4c16",
   "metadata": {},
   "outputs": [],
   "source": [
    "df.to_csv(\"procesadas_muertes_edad\",index=False,sep=';',)"
   ]
  }
 ],
 "metadata": {
  "kernelspec": {
   "display_name": "Python 3 (ipykernel)",
   "language": "python",
   "name": "python3"
  },
  "language_info": {
   "codemirror_mode": {
    "name": "ipython",
    "version": 3
   },
   "file_extension": ".py",
   "mimetype": "text/x-python",
   "name": "python",
   "nbconvert_exporter": "python",
   "pygments_lexer": "ipython3",
   "version": "3.9.13"
  }
 },
 "nbformat": 4,
 "nbformat_minor": 5
}
